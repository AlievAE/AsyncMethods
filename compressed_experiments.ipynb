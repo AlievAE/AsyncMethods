{
 "cells": [
  {
   "cell_type": "code",
   "execution_count": 1,
   "metadata": {},
   "outputs": [],
   "source": [
    "import numpy as np\n",
    "import matplotlib.pyplot as plt\n",
    "\n",
    "import scipy.stats as sps\n",
    "\n",
    "from LinearRegression import linear_regression_loss, linear_regression_gradient\n",
    "from LogisticRegression import logistic_regression_loss, logistic_regression_gradient\n",
    "\n",
    "from sklearn.preprocessing import MinMaxScaler\n",
    "\n",
    "import torch\n",
    "import torch.nn as nn\n",
    "import torch.optim as optim\n",
    "from torchvision import datasets, transforms\n",
    "from torch.utils.data import DataLoader\n",
    "\n",
    "from functools import partial"
   ]
  },
  {
   "cell_type": "code",
   "execution_count": 2,
   "metadata": {},
   "outputs": [],
   "source": [
    "import importlib\n",
    "import methods\n",
    "importlib.reload(methods)\n",
    "from methods import MinibatchSGD, AsynchronousGD, RennalaSGD, WorkerState"
   ]
  },
  {
   "cell_type": "code",
   "execution_count": 3,
   "metadata": {},
   "outputs": [],
   "source": [
    "from sklearn.datasets import load_diabetes\n",
    "diabetes_X, diabetes_y = load_diabetes(return_X_y=True)\n",
    "diabetes_X = np.hstack((diabetes_X, np.ones((len(diabetes_X), 1))))"
   ]
  },
  {
   "cell_type": "code",
   "execution_count": 4,
   "metadata": {},
   "outputs": [],
   "source": [
    "n_workers = 4\n",
    "time_distributions = [sps.norm(i+1, scale=1) for i in range(n_workers)]\n",
    "batch_sizes = np.arange(1, n_workers + 1) * 10\n",
    "\n",
    "\n",
    "n_iterations = 2_000\n",
    "\n",
    "w = np.zeros(diabetes_X.shape[1])\n",
    "lr = 0.01"
   ]
  },
  {
   "cell_type": "code",
   "execution_count": null,
   "metadata": {},
   "outputs": [
    {
     "data": {
      "text/plain": [
       "array([ 4, 22, 44, 88])"
      ]
     },
     "execution_count": 12,
     "metadata": {},
     "output_type": "execute_result"
    }
   ],
   "source": [
    "range_of_k = np.array(np.array([.01, .05, .1, .2]) * len(diabetes_X), dtype='int')\n",
    "compressions = ['none', \n",
    "                'randk',\n",
    "                'topk',\n",
    "                ]\n",
    "range_of_k"
   ]
  },
  {
   "cell_type": "code",
   "execution_count": null,
   "metadata": {},
   "outputs": [
    {
     "name": "stdout",
     "output_type": "stream",
     "text": [
      "Running Minibatch SGD with compression randk and compression rate 4\n"
     ]
    },
    {
     "ename": "",
     "evalue": "",
     "output_type": "error",
     "traceback": [
      "\u001b[1;31mThe Kernel crashed while executing code in the current cell or a previous cell. \n",
      "\u001b[1;31mPlease review the code in the cell(s) to identify a possible cause of the failure. \n",
      "\u001b[1;31mClick <a href='https://aka.ms/vscodeJupyterKernelCrash'>here</a> for more info. \n",
      "\u001b[1;31mView Jupyter <a href='command:jupyter.viewOutput'>log</a> for further details."
     ]
    }
   ],
   "source": [
    "from IPython.display import clear_output\n",
    "\n",
    "times = dict()\n",
    "losses = dict()\n",
    "\n",
    "for compression in compressions:\n",
    "    for compression_rate in range_of_k:\n",
    "        minibatch_sgd = MinibatchSGD(w, (diabetes_X, diabetes_y), time_distributions, linear_regression_loss, \\\n",
    "                                    [partial(linear_regression_gradient, batch_size=batch_sizes[i]) for i in range(n_workers)], \\\n",
    "                                    learning_rate=lr, \\\n",
    "                                    compression_flag=compression, compression_size=compression_rate)\n",
    "        async_gd = AsynchronousGD(w, (diabetes_X, diabetes_y), time_distributions, linear_regression_loss, \\\n",
    "                                    [partial(linear_regression_gradient, batch_size=batch_sizes[i]) for i in range(n_workers)], \\\n",
    "                                    learning_rate=lr, \\\n",
    "                                    compression_flag=compression, compression_size=compression_rate)\n",
    "        rennala_sgd = RennalaSGD(w, (diabetes_X, diabetes_y), time_distributions, linear_regression_loss, \\\n",
    "                                    [partial(linear_regression_gradient, batch_size=batch_sizes[i]) for i in range(n_workers)], \\\n",
    "                                    learning_rate=lr, \\\n",
    "                                    compression_flag=compression, compression_size=compression_rate)\n",
    "        rennala_sgd.set_batch_size(5)\n",
    "\n",
    "        methods = {'Minibatch SGD': minibatch_sgd,\n",
    "                   'Async GD': async_gd,\n",
    "                   #'Rennala SGD': rennala_sgd\n",
    "                   }\n",
    "\n",
    "        for method_name in methods:\n",
    "            if method_name not in times:\n",
    "                times[method_name] = dict()\n",
    "            if method_name not in losses:\n",
    "                losses[method_name] = dict()\n",
    "            if compression not in times[method_name]:\n",
    "                times[method_name][compression] = dict()\n",
    "            if compression not in losses[method_name]:\n",
    "                losses[method_name][compression] = dict()\n",
    "\n",
    "            w = np.zeros(diabetes_X.shape[1])\n",
    "            print(f\"Running {method_name} with compression {compression} and compression rate {compression_rate}\")\n",
    "            current_x, loss_history, computation_times, x_history = methods[method_name].run_steps(n_iterations)\n",
    "            times[method_name][compression][compression_rate] = computation_times\n",
    "            losses[method_name][compression][compression_rate] = loss_history\n",
    "\n",
    "            # Clear output every 5 iterations\n",
    "            if (compression_rate + 1) % 5 == 0:\n",
    "                clear_output(wait=True)\n",
    "                print(f\"Cleared output after {compression_rate + 1} iterations\")"
   ]
  }
 ],
 "metadata": {
  "kernelspec": {
   "display_name": "Python 3",
   "language": "python",
   "name": "python3"
  },
  "language_info": {
   "codemirror_mode": {
    "name": "ipython",
    "version": 3
   },
   "file_extension": ".py",
   "mimetype": "text/x-python",
   "name": "python",
   "nbconvert_exporter": "python",
   "pygments_lexer": "ipython3",
   "version": "3.10.12"
  }
 },
 "nbformat": 4,
 "nbformat_minor": 2
}
